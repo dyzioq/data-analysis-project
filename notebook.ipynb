{
 "cells": [
  {
   "cell_type": "markdown",
   "metadata": {},
   "source": [
    "### Źródło danych: \n"
   ]
  },
  {
   "cell_type": "markdown",
   "metadata": {},
   "source": [
    "Do projektu została wykorzystana baza danych pobrana ze strony Kaggle i jest dostępna pod adresem: https://www.kaggle.com/datasets/brijlaldhankour/car-buyers\n",
    "<br>\n",
    "Zbiór jest rejestrem 6092 rekordów dotyczących sprzedaży 501 modeli samochodów.\n",
    "<br>\n",
    "W naszej analizie wykorzystamy następujące kolumny z podanej bazy danych:\n",
    "<ul>\n",
    "    <li>Manufacturer - Producent</li>\n",
    "    <li>Model - Model</li>\n",
    "    <li>Price - Cena</li>\n",
    "    <li>Power - Moc (w KM)</li>\n",
    "    <li>Engine CC - Pojemność silnika w cm^3</li>\n",
    "    <li>Fuel - Rodzaj paliwa</li>\n",
    "    <li>Male - Ilość kupiona przez mężczyzn</li>\n",
    "    <li>Female- Ilość kupiona przez kobiety</li>\n",
    "    <li>Unknown - Ilość kupiona przez płeć nieznaną</li>\n",
    "    <li>Total - Suma sprzedaży danego modelu</li>\n",
    "</ul>"
   ]
  },
  {
   "cell_type": "markdown",
   "metadata": {},
   "source": [
    "### Wczytanie i obróbka danych"
   ]
  },
  {
   "cell_type": "markdown",
   "metadata": {},
   "source": [
    "Import Bibliotek"
   ]
  },
  {
   "cell_type": "code",
   "execution_count": 137,
   "metadata": {},
   "outputs": [],
   "source": [
    "import pandas as pd\n",
    "import numpy as np\n",
    "import seaborn as sb\n",
    "import matplotlib.pyplot as plt"
   ]
  },
  {
   "cell_type": "markdown",
   "metadata": {},
   "source": [
    "Wczytanie danych"
   ]
  },
  {
   "cell_type": "code",
   "execution_count": 138,
   "metadata": {},
   "outputs": [],
   "source": [
    "dataSet = pd.read_csv(\"CarBuyers.csv\")"
   ]
  },
  {
   "cell_type": "markdown",
   "metadata": {},
   "source": [
    "Usunięcie niepotrzebnej kolumny"
   ]
  },
  {
   "cell_type": "code",
   "execution_count": 139,
   "metadata": {},
   "outputs": [],
   "source": [
    "dataSet.drop(\"Transmission\", axis=\"columns\", inplace= True)"
   ]
  },
  {
   "cell_type": "markdown",
   "metadata": {},
   "source": [
    "Przejrzenie zawartości bazy danych"
   ]
  },
  {
   "cell_type": "code",
   "execution_count": 140,
   "metadata": {},
   "outputs": [
    {
     "name": "stdout",
     "output_type": "stream",
     "text": [
      "<class 'pandas.core.frame.DataFrame'>\n",
      "RangeIndex: 6092 entries, 0 to 6091\n",
      "Data columns (total 10 columns):\n",
      " #   Column        Non-Null Count  Dtype  \n",
      "---  ------        --------------  -----  \n",
      " 0   Manufacturer  6092 non-null   object \n",
      " 1   Model         6092 non-null   object \n",
      " 2   Price         6092 non-null   float64\n",
      " 3   Power         6092 non-null   float64\n",
      " 4   Engine CC     6092 non-null   float64\n",
      " 5   Fuel          6092 non-null   object \n",
      " 6   Male          6092 non-null   object \n",
      " 7   Female        6092 non-null   object \n",
      " 8   Unknown       6092 non-null   object \n",
      " 9   Total         6092 non-null   object \n",
      "dtypes: float64(3), object(7)\n",
      "memory usage: 476.1+ KB\n"
     ]
    }
   ],
   "source": [
    "dataSet.info()"
   ]
  },
  {
   "cell_type": "code",
   "execution_count": 141,
   "metadata": {},
   "outputs": [
    {
     "data": {
      "text/html": [
       "<div>\n",
       "<style scoped>\n",
       "    .dataframe tbody tr th:only-of-type {\n",
       "        vertical-align: middle;\n",
       "    }\n",
       "\n",
       "    .dataframe tbody tr th {\n",
       "        vertical-align: top;\n",
       "    }\n",
       "\n",
       "    .dataframe thead th {\n",
       "        text-align: right;\n",
       "    }\n",
       "</style>\n",
       "<table border=\"1\" class=\"dataframe\">\n",
       "  <thead>\n",
       "    <tr style=\"text-align: right;\">\n",
       "      <th></th>\n",
       "      <th>Manufacturer</th>\n",
       "      <th>Model</th>\n",
       "      <th>Price</th>\n",
       "      <th>Power</th>\n",
       "      <th>Engine CC</th>\n",
       "      <th>Fuel</th>\n",
       "      <th>Male</th>\n",
       "      <th>Female</th>\n",
       "      <th>Unknown</th>\n",
       "      <th>Total</th>\n",
       "    </tr>\n",
       "  </thead>\n",
       "  <tbody>\n",
       "    <tr>\n",
       "      <th>0</th>\n",
       "      <td>Ford</td>\n",
       "      <td>Focus</td>\n",
       "      <td>30.619322</td>\n",
       "      <td>94.033898</td>\n",
       "      <td>1497.169492</td>\n",
       "      <td>petrol</td>\n",
       "      <td>814172</td>\n",
       "      <td>422731</td>\n",
       "      <td>56,487</td>\n",
       "      <td>1293390</td>\n",
       "    </tr>\n",
       "    <tr>\n",
       "      <th>1</th>\n",
       "      <td>Ford</td>\n",
       "      <td>Fiesta</td>\n",
       "      <td>18.532143</td>\n",
       "      <td>68.571429</td>\n",
       "      <td>1166.142857</td>\n",
       "      <td>petrol</td>\n",
       "      <td>554879</td>\n",
       "      <td>631666</td>\n",
       "      <td>54,057</td>\n",
       "      <td>1240602</td>\n",
       "    </tr>\n",
       "    <tr>\n",
       "      <th>2</th>\n",
       "      <td>Volkswagen</td>\n",
       "      <td>Golf</td>\n",
       "      <td>31.242154</td>\n",
       "      <td>89.461538</td>\n",
       "      <td>1537.406593</td>\n",
       "      <td>petrol</td>\n",
       "      <td>483216</td>\n",
       "      <td>310604</td>\n",
       "      <td>47,563</td>\n",
       "      <td>841383</td>\n",
       "    </tr>\n",
       "    <tr>\n",
       "      <th>3</th>\n",
       "      <td>Renault</td>\n",
       "      <td>Clio</td>\n",
       "      <td>22.100000</td>\n",
       "      <td>75.576923</td>\n",
       "      <td>1219.653846</td>\n",
       "      <td>petrol</td>\n",
       "      <td>241287</td>\n",
       "      <td>312556</td>\n",
       "      <td>28,004</td>\n",
       "      <td>581847</td>\n",
       "    </tr>\n",
       "    <tr>\n",
       "      <th>4</th>\n",
       "      <td>BMW</td>\n",
       "      <td>320i</td>\n",
       "      <td>47.848370</td>\n",
       "      <td>126.111111</td>\n",
       "      <td>1995.777778</td>\n",
       "      <td>petrol</td>\n",
       "      <td>408016</td>\n",
       "      <td>115843</td>\n",
       "      <td>29,125</td>\n",
       "      <td>552984</td>\n",
       "    </tr>\n",
       "  </tbody>\n",
       "</table>\n",
       "</div>"
      ],
      "text/plain": [
       "  Manufacturer   Model      Price       Power    Engine CC    Fuel    Male  \\\n",
       "0         Ford   Focus  30.619322   94.033898  1497.169492  petrol  814172   \n",
       "1         Ford  Fiesta  18.532143   68.571429  1166.142857  petrol  554879   \n",
       "2   Volkswagen    Golf  31.242154   89.461538  1537.406593  petrol  483216   \n",
       "3      Renault    Clio  22.100000   75.576923  1219.653846  petrol  241287   \n",
       "4          BMW    320i  47.848370  126.111111  1995.777778  petrol  408016   \n",
       "\n",
       "   Female Unknown    Total  \n",
       "0  422731  56,487  1293390  \n",
       "1  631666  54,057  1240602  \n",
       "2  310604  47,563   841383  \n",
       "3  312556  28,004   581847  \n",
       "4  115843  29,125   552984  "
      ]
     },
     "execution_count": 141,
     "metadata": {},
     "output_type": "execute_result"
    }
   ],
   "source": [
    "dataSet.head()"
   ]
  },
  {
   "cell_type": "markdown",
   "metadata": {},
   "source": [
    "Zmienne typu <i>object</i> takie jak <i>Male, Female, Unknow, Total</i> zawierają w sobie przecinki, więc aby w dalszej części była możliwa analiza ich jako liczb, należy usunąć przecinki i zmienić ich typ na <i>int</i>"
   ]
  },
  {
   "cell_type": "code",
   "execution_count": 142,
   "metadata": {},
   "outputs": [
    {
     "name": "stdout",
     "output_type": "stream",
     "text": [
      "<class 'pandas.core.frame.DataFrame'>\n",
      "RangeIndex: 6092 entries, 0 to 6091\n",
      "Data columns (total 10 columns):\n",
      " #   Column        Non-Null Count  Dtype  \n",
      "---  ------        --------------  -----  \n",
      " 0   Manufacturer  6092 non-null   object \n",
      " 1   Model         6092 non-null   object \n",
      " 2   Price         6092 non-null   float64\n",
      " 3   Power         6092 non-null   float64\n",
      " 4   Engine CC     6092 non-null   float64\n",
      " 5   Fuel          6092 non-null   object \n",
      " 6   Male          6092 non-null   int32  \n",
      " 7   Female        6092 non-null   int32  \n",
      " 8   Unknown       6092 non-null   int32  \n",
      " 9   Total         6092 non-null   int32  \n",
      "dtypes: float64(3), int32(4), object(3)\n",
      "memory usage: 380.9+ KB\n"
     ]
    }
   ],
   "source": [
    "columnsToChange = [\"Male\", \"Female\", \"Unknown\", \"Total\"]\n",
    "for i in range(len(dataSet)):\n",
    "    for column in columnsToChange:\n",
    "        stringWithoutComma = str(dataSet.loc[i, column]).replace(\",\",\"\")\n",
    "        dataSet.loc[i, column] = stringWithoutComma\n",
    "\n",
    "dataSet = dataSet.astype({\"Fuel\": \"str\", \"Male\": \"int\", \"Female\": \"int\", \"Unknown\": \"int\", \"Total\": \"int\"})\n",
    "dataSet.info() #sprawdzamy czy typy zmieniono na int\n"
   ]
  },
  {
   "cell_type": "markdown",
   "metadata": {},
   "source": [
    "Baza posiada rozbite rekordy sprzedaży, więc sumujemy wszystkie sprzedaże do jednego rekordu."
   ]
  },
  {
   "cell_type": "code",
   "execution_count": 143,
   "metadata": {},
   "outputs": [
    {
     "data": {
      "text/html": [
       "<div>\n",
       "<style scoped>\n",
       "    .dataframe tbody tr th:only-of-type {\n",
       "        vertical-align: middle;\n",
       "    }\n",
       "\n",
       "    .dataframe tbody tr th {\n",
       "        vertical-align: top;\n",
       "    }\n",
       "\n",
       "    .dataframe thead th {\n",
       "        text-align: right;\n",
       "    }\n",
       "</style>\n",
       "<table border=\"1\" class=\"dataframe\">\n",
       "  <thead>\n",
       "    <tr style=\"text-align: right;\">\n",
       "      <th></th>\n",
       "      <th>Manufacturer</th>\n",
       "      <th>Model</th>\n",
       "      <th>Price</th>\n",
       "      <th>Power</th>\n",
       "      <th>Engine CC</th>\n",
       "      <th>Fuel</th>\n",
       "      <th>Male</th>\n",
       "      <th>Female</th>\n",
       "      <th>Unknown</th>\n",
       "      <th>Total</th>\n",
       "    </tr>\n",
       "  </thead>\n",
       "  <tbody>\n",
       "    <tr>\n",
       "      <th>0</th>\n",
       "      <td>Ford</td>\n",
       "      <td>Focus</td>\n",
       "      <td>30.619322</td>\n",
       "      <td>94.033898</td>\n",
       "      <td>1497.169492</td>\n",
       "      <td>petrol</td>\n",
       "      <td>7221769</td>\n",
       "      <td>422731</td>\n",
       "      <td>56487</td>\n",
       "      <td>1293390</td>\n",
       "    </tr>\n",
       "    <tr>\n",
       "      <th>1</th>\n",
       "      <td>Ford</td>\n",
       "      <td>Fiesta</td>\n",
       "      <td>18.532143</td>\n",
       "      <td>68.571429</td>\n",
       "      <td>1166.142857</td>\n",
       "      <td>petrol</td>\n",
       "      <td>12150919</td>\n",
       "      <td>631666</td>\n",
       "      <td>54057</td>\n",
       "      <td>1240602</td>\n",
       "    </tr>\n",
       "    <tr>\n",
       "      <th>2</th>\n",
       "      <td>Volkswagen</td>\n",
       "      <td>Golf</td>\n",
       "      <td>31.242154</td>\n",
       "      <td>89.461538</td>\n",
       "      <td>1537.406593</td>\n",
       "      <td>petrol</td>\n",
       "      <td>7339526</td>\n",
       "      <td>310604</td>\n",
       "      <td>47563</td>\n",
       "      <td>841383</td>\n",
       "    </tr>\n",
       "    <tr>\n",
       "      <th>3</th>\n",
       "      <td>Renault</td>\n",
       "      <td>Clio</td>\n",
       "      <td>22.1</td>\n",
       "      <td>75.576923</td>\n",
       "      <td>1219.653846</td>\n",
       "      <td>petrol</td>\n",
       "      <td>3929068</td>\n",
       "      <td>312556</td>\n",
       "      <td>28004</td>\n",
       "      <td>581847</td>\n",
       "    </tr>\n",
       "    <tr>\n",
       "      <th>4</th>\n",
       "      <td>BMW</td>\n",
       "      <td>320i</td>\n",
       "      <td>47.84837</td>\n",
       "      <td>126.111111</td>\n",
       "      <td>1995.777778</td>\n",
       "      <td>petrol</td>\n",
       "      <td>6213366</td>\n",
       "      <td>115843</td>\n",
       "      <td>29125</td>\n",
       "      <td>552984</td>\n",
       "    </tr>\n",
       "    <tr>\n",
       "      <th>...</th>\n",
       "      <td>...</td>\n",
       "      <td>...</td>\n",
       "      <td>...</td>\n",
       "      <td>...</td>\n",
       "      <td>...</td>\n",
       "      <td>...</td>\n",
       "      <td>...</td>\n",
       "      <td>...</td>\n",
       "      <td>...</td>\n",
       "      <td>...</td>\n",
       "    </tr>\n",
       "    <tr>\n",
       "      <th>496</th>\n",
       "      <td>Honda</td>\n",
       "      <td>Quintet</td>\n",
       "      <td>4.968</td>\n",
       "      <td>59.0</td>\n",
       "      <td>1602.0</td>\n",
       "      <td>petrol</td>\n",
       "      <td>3050</td>\n",
       "      <td>331</td>\n",
       "      <td>44</td>\n",
       "      <td>1099</td>\n",
       "    </tr>\n",
       "    <tr>\n",
       "      <th>497</th>\n",
       "      <td>Renault</td>\n",
       "      <td>14</td>\n",
       "      <td>9.18075</td>\n",
       "      <td>46.75</td>\n",
       "      <td>1324.5</td>\n",
       "      <td>petrol</td>\n",
       "      <td>2120</td>\n",
       "      <td>423</td>\n",
       "      <td>37</td>\n",
       "      <td>1229</td>\n",
       "    </tr>\n",
       "    <tr>\n",
       "      <th>498</th>\n",
       "      <td>Renault</td>\n",
       "      <td>20</td>\n",
       "      <td>9.9475</td>\n",
       "      <td>73.5</td>\n",
       "      <td>1908.0</td>\n",
       "      <td>petrol</td>\n",
       "      <td>2400</td>\n",
       "      <td>196</td>\n",
       "      <td>30</td>\n",
       "      <td>1151</td>\n",
       "    </tr>\n",
       "    <tr>\n",
       "      <th>499</th>\n",
       "      <td>Lada</td>\n",
       "      <td>1200</td>\n",
       "      <td>4.536</td>\n",
       "      <td>44.0</td>\n",
       "      <td>1198.0</td>\n",
       "      <td>petrol</td>\n",
       "      <td>1295</td>\n",
       "      <td>361</td>\n",
       "      <td>26</td>\n",
       "      <td>1682</td>\n",
       "    </tr>\n",
       "    <tr>\n",
       "      <th>500</th>\n",
       "      <td>Peugeot</td>\n",
       "      <td>504</td>\n",
       "      <td>21.084</td>\n",
       "      <td>86.0</td>\n",
       "      <td>2202.0</td>\n",
       "      <td>petrol</td>\n",
       "      <td>1292</td>\n",
       "      <td>272</td>\n",
       "      <td>47</td>\n",
       "      <td>1611</td>\n",
       "    </tr>\n",
       "  </tbody>\n",
       "</table>\n",
       "<p>501 rows × 10 columns</p>\n",
       "</div>"
      ],
      "text/plain": [
       "    Manufacturer    Model      Price       Power    Engine CC    Fuel  \\\n",
       "0           Ford    Focus  30.619322   94.033898  1497.169492  petrol   \n",
       "1           Ford   Fiesta  18.532143   68.571429  1166.142857  petrol   \n",
       "2     Volkswagen     Golf  31.242154   89.461538  1537.406593  petrol   \n",
       "3        Renault     Clio       22.1   75.576923  1219.653846  petrol   \n",
       "4            BMW     320i   47.84837  126.111111  1995.777778  petrol   \n",
       "..           ...      ...        ...         ...          ...     ...   \n",
       "496        Honda  Quintet      4.968        59.0       1602.0  petrol   \n",
       "497      Renault       14    9.18075       46.75       1324.5  petrol   \n",
       "498      Renault       20     9.9475        73.5       1908.0  petrol   \n",
       "499         Lada     1200      4.536        44.0       1198.0  petrol   \n",
       "500      Peugeot      504     21.084        86.0       2202.0  petrol   \n",
       "\n",
       "         Male  Female Unknown    Total  \n",
       "0     7221769  422731   56487  1293390  \n",
       "1    12150919  631666   54057  1240602  \n",
       "2     7339526  310604   47563   841383  \n",
       "3     3929068  312556   28004   581847  \n",
       "4     6213366  115843   29125   552984  \n",
       "..        ...     ...     ...      ...  \n",
       "496      3050     331      44     1099  \n",
       "497      2120     423      37     1229  \n",
       "498      2400     196      30     1151  \n",
       "499      1295     361      26     1682  \n",
       "500      1292     272      47     1611  \n",
       "\n",
       "[501 rows x 10 columns]"
      ]
     },
     "execution_count": 143,
     "metadata": {},
     "output_type": "execute_result"
    }
   ],
   "source": [
    "dataSetUnique = pd.DataFrame()\n",
    "for column in dataSet.columns:\n",
    "    dataSetUnique[column]=[]\n",
    "#dataSetUnique.loc[0] = dataSet.loc[0]\n",
    "listOfModels = []\n",
    "\n",
    "indexForNewRow = 0\n",
    "\n",
    "for i in range(0, len(dataSet)):\n",
    "    row = dataSet.loc[i]\n",
    "    model = row[\"Model\"]\n",
    "    if model in listOfModels:\n",
    "        index = listOfModels.index(row[\"Model\"])\n",
    "        dataSetUnique.loc[index, \"Male\"] += row[\"Male\"]\n",
    "        \n",
    "    else:\n",
    "        listOfModels.append(row[\"Model\"])\n",
    "        dataSetUnique.loc[indexForNewRow]=row\n",
    "        indexForNewRow += 1\n",
    "\n",
    "dataSet = dataSetUnique\n",
    "dataSet\n",
    "\n"
   ]
  },
  {
   "cell_type": "markdown",
   "metadata": {},
   "source": [
    "### Analiza bazy danych"
   ]
  },
  {
   "cell_type": "markdown",
   "metadata": {},
   "source": [
    "#### Rankingi"
   ]
  },
  {
   "cell_type": "markdown",
   "metadata": {},
   "source": [
    "Ranking samochodów względem mocy silnika"
   ]
  },
  {
   "cell_type": "code",
   "execution_count": 155,
   "metadata": {},
   "outputs": [
    {
     "data": {
      "text/html": [
       "<div>\n",
       "<style scoped>\n",
       "    .dataframe tbody tr th:only-of-type {\n",
       "        vertical-align: middle;\n",
       "    }\n",
       "\n",
       "    .dataframe tbody tr th {\n",
       "        vertical-align: top;\n",
       "    }\n",
       "\n",
       "    .dataframe thead th {\n",
       "        text-align: right;\n",
       "    }\n",
       "</style>\n",
       "<table border=\"1\" class=\"dataframe\">\n",
       "  <thead>\n",
       "    <tr style=\"text-align: right;\">\n",
       "      <th></th>\n",
       "      <th>Manufacturer</th>\n",
       "      <th>Model</th>\n",
       "      <th>Price</th>\n",
       "      <th>Power</th>\n",
       "      <th>Engine CC</th>\n",
       "      <th>Fuel</th>\n",
       "    </tr>\n",
       "  </thead>\n",
       "  <tbody>\n",
       "    <tr>\n",
       "      <th>383</th>\n",
       "      <td>Porsche</td>\n",
       "      <td>Carrera</td>\n",
       "      <td>646.605</td>\n",
       "      <td>450.0</td>\n",
       "      <td>5733.0</td>\n",
       "      <td>petrol</td>\n",
       "    </tr>\n",
       "    <tr>\n",
       "      <th>370</th>\n",
       "      <td>Audi</td>\n",
       "      <td>RS6</td>\n",
       "      <td>175.835</td>\n",
       "      <td>433.5</td>\n",
       "      <td>4493.5</td>\n",
       "      <td>petrol</td>\n",
       "    </tr>\n",
       "    <tr>\n",
       "      <th>219</th>\n",
       "      <td>Bentley</td>\n",
       "      <td>Continental</td>\n",
       "      <td>285.247</td>\n",
       "      <td>428.2</td>\n",
       "      <td>5577.8</td>\n",
       "      <td>petrol</td>\n",
       "    </tr>\n",
       "    <tr>\n",
       "      <th>176</th>\n",
       "      <td>Mercedes</td>\n",
       "      <td>SLS</td>\n",
       "      <td>264.675</td>\n",
       "      <td>420.0</td>\n",
       "      <td>6208.0</td>\n",
       "      <td>petrol</td>\n",
       "    </tr>\n",
       "    <tr>\n",
       "      <th>386</th>\n",
       "      <td>Nissan</td>\n",
       "      <td>GT-R</td>\n",
       "      <td>177.5</td>\n",
       "      <td>419.0</td>\n",
       "      <td>3799.0</td>\n",
       "      <td>petrol</td>\n",
       "    </tr>\n",
       "  </tbody>\n",
       "</table>\n",
       "</div>"
      ],
      "text/plain": [
       "    Manufacturer        Model    Price  Power Engine CC    Fuel\n",
       "383      Porsche      Carrera  646.605  450.0    5733.0  petrol\n",
       "370         Audi          RS6  175.835  433.5    4493.5  petrol\n",
       "219      Bentley  Continental  285.247  428.2    5577.8  petrol\n",
       "176     Mercedes          SLS  264.675  420.0    6208.0  petrol\n",
       "386       Nissan         GT-R    177.5  419.0    3799.0  petrol"
      ]
     },
     "execution_count": 155,
     "metadata": {},
     "output_type": "execute_result"
    }
   ],
   "source": [
    "ranking = dataSet.sort_values(\"Power\", ascending=False).head().drop([\"Male\", \"Female\", \"Unknown\", \"Total\"], axis=\"columns\")\n",
    "ranking\n",
    "#PONIZSZY KOD DO POPRAWEK\n",
    "\n"
   ]
  },
  {
   "cell_type": "markdown",
   "metadata": {},
   "source": [
    "Ranking smaochodów względem pojemności silnika"
   ]
  },
  {
   "cell_type": "code",
   "execution_count": 156,
   "metadata": {},
   "outputs": [
    {
     "data": {
      "text/html": [
       "<div>\n",
       "<style scoped>\n",
       "    .dataframe tbody tr th:only-of-type {\n",
       "        vertical-align: middle;\n",
       "    }\n",
       "\n",
       "    .dataframe tbody tr th {\n",
       "        vertical-align: top;\n",
       "    }\n",
       "\n",
       "    .dataframe thead th {\n",
       "        text-align: right;\n",
       "    }\n",
       "</style>\n",
       "<table border=\"1\" class=\"dataframe\">\n",
       "  <thead>\n",
       "    <tr style=\"text-align: right;\">\n",
       "      <th></th>\n",
       "      <th>Manufacturer</th>\n",
       "      <th>Model</th>\n",
       "      <th>Price</th>\n",
       "      <th>Power</th>\n",
       "      <th>Engine CC</th>\n",
       "      <th>Fuel</th>\n",
       "    </tr>\n",
       "  </thead>\n",
       "  <tbody>\n",
       "    <tr>\n",
       "      <th>176</th>\n",
       "      <td>Mercedes</td>\n",
       "      <td>SLS</td>\n",
       "      <td>264.675</td>\n",
       "      <td>420.0</td>\n",
       "      <td>6208.0</td>\n",
       "      <td>petrol</td>\n",
       "    </tr>\n",
       "    <tr>\n",
       "      <th>480</th>\n",
       "      <td>Daimler</td>\n",
       "      <td>Double</td>\n",
       "      <td>106.82</td>\n",
       "      <td>234.0</td>\n",
       "      <td>5993.0</td>\n",
       "      <td>petrol</td>\n",
       "    </tr>\n",
       "    <tr>\n",
       "      <th>288</th>\n",
       "      <td>Aston-Martin</td>\n",
       "      <td>DB9</td>\n",
       "      <td>273.755</td>\n",
       "      <td>381.0</td>\n",
       "      <td>5935.0</td>\n",
       "      <td>petrol</td>\n",
       "    </tr>\n",
       "    <tr>\n",
       "      <th>383</th>\n",
       "      <td>Porsche</td>\n",
       "      <td>Carrera</td>\n",
       "      <td>646.605</td>\n",
       "      <td>450.0</td>\n",
       "      <td>5733.0</td>\n",
       "      <td>petrol</td>\n",
       "    </tr>\n",
       "    <tr>\n",
       "      <th>219</th>\n",
       "      <td>Bentley</td>\n",
       "      <td>Continental</td>\n",
       "      <td>285.247</td>\n",
       "      <td>428.2</td>\n",
       "      <td>5577.8</td>\n",
       "      <td>petrol</td>\n",
       "    </tr>\n",
       "  </tbody>\n",
       "</table>\n",
       "</div>"
      ],
      "text/plain": [
       "     Manufacturer        Model    Price  Power Engine CC    Fuel\n",
       "176      Mercedes          SLS  264.675  420.0    6208.0  petrol\n",
       "480       Daimler       Double   106.82  234.0    5993.0  petrol\n",
       "288  Aston-Martin          DB9  273.755  381.0    5935.0  petrol\n",
       "383       Porsche      Carrera  646.605  450.0    5733.0  petrol\n",
       "219       Bentley  Continental  285.247  428.2    5577.8  petrol"
      ]
     },
     "execution_count": 156,
     "metadata": {},
     "output_type": "execute_result"
    }
   ],
   "source": [
    "ranking = dataSet.sort_values(\"Engine CC\", ascending=False).head().drop([\"Male\", \"Female\", \"Unknown\", \"Total\"], axis=\"columns\")\n",
    "ranking"
   ]
  },
  {
   "cell_type": "markdown",
   "metadata": {},
   "source": [
    "Najdroższe modele"
   ]
  },
  {
   "cell_type": "code",
   "execution_count": 162,
   "metadata": {},
   "outputs": [
    {
     "data": {
      "text/html": [
       "<div>\n",
       "<style scoped>\n",
       "    .dataframe tbody tr th:only-of-type {\n",
       "        vertical-align: middle;\n",
       "    }\n",
       "\n",
       "    .dataframe tbody tr th {\n",
       "        vertical-align: top;\n",
       "    }\n",
       "\n",
       "    .dataframe thead th {\n",
       "        text-align: right;\n",
       "    }\n",
       "</style>\n",
       "<table border=\"1\" class=\"dataframe\">\n",
       "  <thead>\n",
       "    <tr style=\"text-align: right;\">\n",
       "      <th></th>\n",
       "      <th>Manufacturer</th>\n",
       "      <th>Model</th>\n",
       "      <th>Price</th>\n",
       "      <th>Power</th>\n",
       "      <th>Engine CC</th>\n",
       "      <th>Male</th>\n",
       "      <th>Female</th>\n",
       "    </tr>\n",
       "  </thead>\n",
       "  <tbody>\n",
       "    <tr>\n",
       "      <th>383</th>\n",
       "      <td>Porsche</td>\n",
       "      <td>Carrera</td>\n",
       "      <td>646.605</td>\n",
       "      <td>450.0</td>\n",
       "      <td>5733.0</td>\n",
       "      <td>25353</td>\n",
       "      <td>83</td>\n",
       "    </tr>\n",
       "    <tr>\n",
       "      <th>272</th>\n",
       "      <td>Aston-Martin</td>\n",
       "      <td>Vantage</td>\n",
       "      <td>360.755</td>\n",
       "      <td>410.0</td>\n",
       "      <td>5341.0</td>\n",
       "      <td>25375</td>\n",
       "      <td>359</td>\n",
       "    </tr>\n",
       "    <tr>\n",
       "      <th>219</th>\n",
       "      <td>Bentley</td>\n",
       "      <td>Continental</td>\n",
       "      <td>285.247</td>\n",
       "      <td>428.2</td>\n",
       "      <td>5577.8</td>\n",
       "      <td>52397</td>\n",
       "      <td>1024</td>\n",
       "    </tr>\n",
       "    <tr>\n",
       "      <th>288</th>\n",
       "      <td>Aston-Martin</td>\n",
       "      <td>DB9</td>\n",
       "      <td>273.755</td>\n",
       "      <td>381.0</td>\n",
       "      <td>5935.0</td>\n",
       "      <td>24625</td>\n",
       "      <td>305</td>\n",
       "    </tr>\n",
       "    <tr>\n",
       "      <th>176</th>\n",
       "      <td>Mercedes</td>\n",
       "      <td>SLS</td>\n",
       "      <td>264.675</td>\n",
       "      <td>420.0</td>\n",
       "      <td>6208.0</td>\n",
       "      <td>143077</td>\n",
       "      <td>3121</td>\n",
       "    </tr>\n",
       "  </tbody>\n",
       "</table>\n",
       "</div>"
      ],
      "text/plain": [
       "     Manufacturer        Model    Price  Power Engine CC    Male Female\n",
       "383       Porsche      Carrera  646.605  450.0    5733.0   25353     83\n",
       "272  Aston-Martin      Vantage  360.755  410.0    5341.0   25375    359\n",
       "219       Bentley  Continental  285.247  428.2    5577.8   52397   1024\n",
       "288  Aston-Martin          DB9  273.755  381.0    5935.0   24625    305\n",
       "176      Mercedes          SLS  264.675  420.0    6208.0  143077   3121"
      ]
     },
     "execution_count": 162,
     "metadata": {},
     "output_type": "execute_result"
    }
   ],
   "source": [
    "ranking = dataSet.sort_values(\"Price\", ascending=False).head().drop([\"Fuel\", \"Unknown\", \"Total\"], axis=\"columns\")\n",
    "ranking"
   ]
  },
  {
   "cell_type": "markdown",
   "metadata": {},
   "source": [
    "#### Wykresy"
   ]
  },
  {
   "cell_type": "markdown",
   "metadata": {},
   "source": [
    "Wykres ilości modeli danej marki"
   ]
  },
  {
   "cell_type": "code",
   "execution_count": 175,
   "metadata": {},
   "outputs": [
    {
     "data": {
      "image/png": "[encoded data removed]",
      "text/plain": [
       "<Figure size 2000x500 with 1 Axes>"
      ]
     },
     "metadata": {},
     "output_type": "display_data"
    }
   ],
   "source": [
    "listOfUniqueBrands = dataSet[\"Manufacturer\"].unique().tolist()\n",
    "listOfBrands = dataSet[\"Manufacturer\"].tolist()\n",
    "chart = dataSet[\"Manufacturer\"].value_counts()\n",
    "\n",
    "chart.plot.bar(title=\"Ilość modeli samochodów poszczególnych marek\", figsize=(20,5), xlabel=\"Marka\", ylabel=\"Ilość modeli\")\n",
    "\n",
    "# fig, axes = plt.subplots(figsize=(20,5))\n",
    "# g = sb.countplot(x=\"Manufacturer\", data=dataSet)\n",
    "# g.set_title(\"Ilość zakupionych aut danej marki\")\n",
    "# g.set_xlabel(\"Marka\")\n",
    "# g.set_ylabel(\"Ilość samochodów\")\n",
    "\n",
    "# fig, axes = plt.subplots(figsize=(10,5))\n",
    "# g = sns.countplot(x='Children', data=df, palette='Paired')\n",
    "# g.set_title('Ilość osób z x dziećmi')\n",
    "# g.set_xlabel('Ilość Dzieci')\n",
    "# g.set_ylabel('Ilość obserwacji')\n",
    "\n",
    "plt.show()\n"
   ]
  },
  {
   "cell_type": "markdown",
   "metadata": {},
   "source": [
    "Wykres sprzedaży dla każdej płci (liczbowo i procentowo)"
   ]
  },
  {
   "cell_type": "code",
   "execution_count": 168,
   "metadata": {},
   "outputs": [
    {
     "data": {
      "image/png": "[encoded data removed]",
      "text/plain": [
       "<Figure size 640x480 with 1 Axes>"
      ]
     },
     "metadata": {},
     "output_type": "display_data"
    }
   ],
   "source": [
    "sums = [dataSet[\"Male\"].sum(), dataSet[\"Female\"].sum(), dataSet[\"Unknown\"].sum()]\n",
    "labels = [\"Mężczyźni\", \"Kobiety\", \"Nieznane\"]\n",
    "\n",
    "plt.title(\"Procentowy wykres płci kupców samochodów\")\n",
    "plt.pie(sums, labels=labels, autopct='%1.1f%%', explode=(0.1, 0.1, 0))\n",
    "plt.show()"
   ]
  },
  {
   "cell_type": "markdown",
   "metadata": {},
   "source": [
    "Marki najczęściej wybierane przez mężczyzn (top 5 np)"
   ]
  },
  {
   "cell_type": "markdown",
   "metadata": {},
   "source": [
    "Marki najczęściej wybierane przez kobiety"
   ]
  },
  {
   "cell_type": "markdown",
   "metadata": {},
   "source": [
    "Najczęściej sprzedawane modele"
   ]
  },
  {
   "cell_type": "markdown",
   "metadata": {},
   "source": [
    "Procentowe przedstawienie rodzaju paliwa wykorzystywanego przez dany model"
   ]
  }
 ],
 "metadata": {
  "kernelspec": {
   "display_name": "Python 3",
   "language": "python",
   "name": "python3"
  },
  "language_info": {
   "codemirror_mode": {
    "name": "ipython",
    "version": 3
   },
   "file_extension": ".py",
   "mimetype": "text/x-python",
   "name": "python",
   "nbconvert_exporter": "python",
   "pygments_lexer": "ipython3",
   "version": "3.11.6"
  }
 },
 "nbformat": 4,
 "nbformat_minor": 2
}
